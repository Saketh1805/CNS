{
 "cells": [
  {
   "cell_type": "code",
   "execution_count": 4,
   "id": "352aeeac",
   "metadata": {},
   "outputs": [],
   "source": [
    "import hashlib\n",
    "\n",
    "def SHA1(message):\n",
    "    \n",
    "    encoded_msg = hashlib.sha1(message.encode())\n",
    "\n",
    "    result = encoded_msg.hexdigest()\n",
    "    \n",
    "    return result"
   ]
  },
  {
   "cell_type": "code",
   "execution_count": 5,
   "id": "6747f848",
   "metadata": {},
   "outputs": [
    {
     "name": "stdout",
     "output_type": "stream",
     "text": [
      "Enter the message :prasad\n",
      "The hexadecimal equivalent of SHA1 is :  d7fbabb3289b145a0f256d6596e2e43e9ecb9986\n"
     ]
    }
   ],
   "source": [
    "if __name__==\"__main__\":\n",
    "    \n",
    "    message = input(\"Enter the message :\")\n",
    "    \n",
    "    hexadecimal = SHA1(message)\n",
    "    \n",
    "    print(\"The hexadecimal equivalent of SHA1 is : \", hexadecimal)\n"
   ]
  },
  {
   "cell_type": "code",
   "execution_count": null,
   "id": "06d3f69a",
   "metadata": {},
   "outputs": [],
   "source": []
  }
 ],
 "metadata": {
  "kernelspec": {
   "display_name": "Python 3 (ipykernel)",
   "language": "python",
   "name": "python3"
  },
  "language_info": {
   "codemirror_mode": {
    "name": "ipython",
    "version": 3
   },
   "file_extension": ".py",
   "mimetype": "text/x-python",
   "name": "python",
   "nbconvert_exporter": "python",
   "pygments_lexer": "ipython3",
   "version": "3.8.10"
  }
 },
 "nbformat": 4,
 "nbformat_minor": 5
}
